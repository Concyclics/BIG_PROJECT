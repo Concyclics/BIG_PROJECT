{
 "cells": [
  {
   "cell_type": "markdown",
   "id": "0ac11c87",
   "metadata": {},
   "source": [
    "# Lab2: \n",
    "# Logistic Regression and Support Vector Machine\n",
    "### name：陈涵\n",
    "### student number：201936380086"
   ]
  },
  {
   "cell_type": "markdown",
   "id": "b5aacf83",
   "metadata": {},
   "source": [
    "## Motivation of Experiment\n",
    "1. Compare andand understand the difference between gradient descent and batch random stochastic gradient descent.\n",
    "2. Compare and understand the differences and relationships between Logistic regression and linear classification.\n",
    "3. Further understand the principles of SVM and practice on larger data."
   ]
  },
  {
   "cell_type": "markdown",
   "id": "13a1bf88",
   "metadata": {},
   "source": [
    "## Dataset\n",
    "Experiment uses a9a of LIBSVM Data, including 32561/16281(testing) samples and each sample has 123/123 (testing) features. Please download the training set and validation set. The dimension may be wrong, which is due to the values of last column are all zero so it is ignored. This can be fixed by adding one column by yourself or specify the n_features to be 123 when using the function."
   ]
  },
  {
   "cell_type": "markdown",
   "id": "ea0d015e",
   "metadata": {},
   "source": [
    "## Experiment Step\n"
   ]
  },
  {
   "cell_type": "markdown",
   "id": "f63cbf0e",
   "metadata": {},
   "source": [
    "### A. Logistic Regression and Batch Stochastic Gradient Descent"
   ]
  },
  {
   "cell_type": "markdown",
   "id": "8fe745c4",
   "metadata": {},
   "source": [
    "1. Load the training set and validation set."
   ]
  },
  {
   "cell_type": "code",
   "execution_count": 1,
   "id": "21496fce",
   "metadata": {},
   "outputs": [],
   "source": [
    "from sklearn.datasets import load_svmlight_file\n",
    "import numpy as np\n",
    "from tqdm import tqdm\n",
    "import matplotlib.pyplot as plt\n",
    "import math\n",
    "\n",
    "data = load_svmlight_file(\"a9a.txt\", n_features=123)\n",
    "X_train = data[0].toarray()\n",
    "Y_train = data[1].reshape((data[1].shape[0],1))\n",
    "data1 = load_svmlight_file(\"a9a.t\", n_features=123)\n",
    "X_test = data1[0].toarray()\n",
    "Y_test = data1[1].reshape((data1[1].shape[0], 1))"
   ]
  },
  {
   "cell_type": "markdown",
   "id": "54363e7f",
   "metadata": {},
   "source": [
    "2. Initialize logistic regression model parameter (you can consider initializing zeros, random numbers or normal distribution).\n",
    "3. Select the loss function and calculate its derivation. $$ \\min \\mathcal{Loss}(W) = \\frac{1}{n} \\sum_{i=1}^n log(1+e^{-y_i W^T X_i})$$\n",
    "To avoid overfitting, we rewrite this equation by regular item $\\frac{\\lambda}{2} \\parallel W \\parallel^2$:\n",
    "$$ \\min \\mathcal{J}(W) = \\frac{1}{n} \\sum_{i=1}^n log(1+e^{-y_i W^T X_i}) + \\frac{\\lambda}{2} \\parallel W \\parallel^2$$"
   ]
  },
  {
   "cell_type": "code",
   "execution_count": 2,
   "id": "c270ca30",
   "metadata": {},
   "outputs": [],
   "source": [
    "def calc_loss_A(X, Y, W):\n",
    "    loss = 0\n",
    "    for i in range(X.shape[0]):\n",
    "        Xi = X[i]\n",
    "        Yi = Y[i]\n",
    "        exp_ywx = math.exp(-Yi*W.T.dot(Xi))\n",
    "        loss = loss + math.log(1+exp_ywx)\n",
    "    loss = (1/X.shape[0])*loss\n",
    "    return loss"
   ]
  },
  {
   "cell_type": "markdown",
   "id": "cdbb56b6",
   "metadata": {},
   "source": [
    "4. Determine the size of the batch_size and randomly take some samples,calculate gradient G toward loss function from partial samples.\n",
    "5. Use the SGD optimization method to update the parametric model and encourage additional attempts to optimize the Adam method."
   ]
  },
  {
   "cell_type": "markdown",
   "id": "e1cb81f6",
   "metadata": {},
   "source": [
    "We have sigmoid function:\n",
    "$$\\mathcal{g}(Z) = \\frac{1}{1+e^{-Z}}$$"
   ]
  },
  {
   "cell_type": "code",
   "execution_count": 3,
   "id": "0978ec83",
   "metadata": {},
   "outputs": [],
   "source": [
    "def sigmoid(Z):\n",
    "    return 1/(1+math.exp(-Z))"
   ]
  },
  {
   "cell_type": "markdown",
   "id": "16672d7d",
   "metadata": {},
   "source": [
    "6. Select the appropriate threshold, mark the sample whose predict scores greater than the threshold as positive, on the contrary as negative. Predict under validation set and get the loss $Lvalidation$."
   ]
  },
  {
   "cell_type": "markdown",
   "id": "f33a7720",
   "metadata": {},
   "source": [
    "We define the threshold at 0.5, if $\\mathcal{g}(W^T X_i) \\gt 0.5$ , it's positive, or t's negative."
   ]
  },
  {
   "cell_type": "code",
   "execution_count": 4,
   "id": "3c041779",
   "metadata": {},
   "outputs": [],
   "source": [
    "def calc_validation_A(W):\n",
    "    match_count = 0\n",
    "    for i in range(X_test.shape[0]):\n",
    "        Z = W.T.dot(X_test[i])\n",
    "        f = sigmoid(Z)\n",
    "        if f > 0.5:\n",
    "            flag = 1\n",
    "        else:\n",
    "            flag = -1\n",
    "        if flag == Y_test[i][0]:\n",
    "            match_count = match_count + 1\n",
    "    return match_count/X_test.shape[0]"
   ]
  },
  {
   "cell_type": "markdown",
   "id": "dd396f52",
   "metadata": {},
   "source": [
    "Calculating gradient with formula below:\n",
    "$$  \\frac{\\partial \\mathcal{J}(W)}{\\partial W} = -\\frac{1}{n} \\sum_{i=1}^n \\frac{y_i X_i e^{-y_i W^T X_i}}{1+e^{-y_i W^T X_i}} + \\lambda W$$"
   ]
  },
  {
   "cell_type": "code",
   "execution_count": 5,
   "id": "8283195b",
   "metadata": {},
   "outputs": [],
   "source": [
    "def calc_gradient_A(X, Y, W, lamda):\n",
    "    grad = 0\n",
    "    for i in range(X.shape[0]):\n",
    "        Xi = X[i]\n",
    "        Yi = Y[i]\n",
    "        exp_ywx = math.exp(-Yi*W.T.dot(Xi))\n",
    "        temp = (Yi*Xi*exp_ywx)/(1+exp_ywx)\n",
    "        grad = grad + temp\n",
    "    grad = -(1/X.shape[0])*grad\n",
    "    grad = grad.reshape(grad.shape[0], 1)\n",
    "    grad = grad + (lamda*W)\n",
    "    return grad"
   ]
  },
  {
   "cell_type": "markdown",
   "id": "e735bd71",
   "metadata": {},
   "source": [
    "7. Repeat step 4 to 6 for several times, and drawing graph of $Lvalidation$ with the number of iterations."
   ]
  },
  {
   "cell_type": "code",
   "execution_count": 6,
   "id": "f224036b",
   "metadata": {},
   "outputs": [],
   "source": [
    "def Logistic_Regression(X, Y, learning_rate, lamda, epoch, batch):\n",
    "    loss = []\n",
    "    acc = []\n",
    "    W = np.random.rand(X.shape[1], 1)\n",
    "    for i in tqdm(range(epoch), desc=\"Training pass: \", leave=True):\n",
    "        bat = np.random.choice(X.shape[0], batch)\n",
    "        X_batch = X[bat]\n",
    "        Y_batch = Y[bat]\n",
    "        gradient = calc_gradient_A(X_batch, Y_batch, W, lamda)\n",
    "        W = W - learning_rate*gradient\n",
    "        loss.append(calc_loss_A(X, Y, W))\n",
    "        acc.append(calc_validation_A(W))\n",
    "    return W, loss, acc"
   ]
  },
  {
   "cell_type": "code",
   "execution_count": 7,
   "id": "756c8876",
   "metadata": {},
   "outputs": [
    {
     "name": "stderr",
     "output_type": "stream",
     "text": [
      "Training pass: 100%|██████████| 200/200 [00:17<00:00, 11.54it/s]\n"
     ]
    },
    {
     "data": {
      "image/png": "[encoded data removed]",
      "text/plain": [
       "<Figure size 432x288 with 1 Axes>"
      ]
     },
     "metadata": {
      "needs_background": "light"
     },
     "output_type": "display_data"
    },
    {
     "data": {
      "image/png": "[encoded data removed]",
      "text/plain": [
       "<Figure size 432x288 with 1 Axes>"
      ]
     },
     "metadata": {
      "needs_background": "light"
     },
     "output_type": "display_data"
    }
   ],
   "source": [
    "W, loss, acc = Logistic_Regression(X_train, Y_train, 0.1, 0.01, 200, 30)\n",
    "\n",
    "plt.figure()\n",
    "plt.plot(acc)\n",
    "plt.title(\"LR SGD Accuracy\")\n",
    "plt.xlabel(\"Iteration\")\n",
    "plt.ylabel(\"Match Percent\")\n",
    "plt.savefig('lab2_lr_sgd_acc.pdf')\n",
    "plt.show()\n",
    "plt.figure()\n",
    "plt.plot(loss)\n",
    "plt.title(\"LR SGD Loss\")\n",
    "plt.xlabel(\"Iteration\")\n",
    "plt.ylabel(\"Loss\")\n",
    "plt.savefig('lab2_lr_sgd_loss.pdf')\n",
    "plt.show()"
   ]
  },
  {
   "cell_type": "markdown",
   "id": "ff68503a",
   "metadata": {},
   "source": [
    "Optimizing with Adam method."
   ]
  },
  {
   "cell_type": "code",
   "execution_count": 8,
   "id": "c3cba420",
   "metadata": {},
   "outputs": [],
   "source": [
    "def Logistic_Regression_Adam(X, Y, learning_rate, lamda, epoch, batch, eps=1e-8, beta1=0.9, beta2=0.999):\n",
    "    loss = []\n",
    "    acc = []\n",
    "    m = 0\n",
    "    v = 0\n",
    "    W = np.random.rand(X.shape[1], 1)\n",
    "    for i in tqdm(range(epoch), desc=\"Training pass: \", leave=True):\n",
    "        bat = np.random.choice(X.shape[0], batch)\n",
    "        X_batch = X[bat]\n",
    "        Y_batch = Y[bat]\n",
    "        gradient = calc_gradient_A(X_batch, Y_batch, W, lamda)\n",
    "        m = beta1 * m + (1 - beta1) * gradient\n",
    "        v = beta2 * v + (1 - beta2) * (gradient ** 2)\n",
    "        W = W - learning_rate * m / (np.sqrt(v) + eps)\n",
    "        loss.append(calc_loss_A(X, Y, W))\n",
    "        acc.append(calc_validation_A(W))\n",
    "    return W, loss, acc"
   ]
  },
  {
   "cell_type": "code",
   "execution_count": 9,
   "id": "37c970f7",
   "metadata": {},
   "outputs": [
    {
     "name": "stderr",
     "output_type": "stream",
     "text": [
      "Training pass: 100%|██████████| 200/200 [00:17<00:00, 11.42it/s]\n"
     ]
    },
    {
     "data": {
      "image/png": "[encoded data removed]",
      "text/plain": [
       "<Figure size 432x288 with 1 Axes>"
      ]
     },
     "metadata": {
      "needs_background": "light"
     },
     "output_type": "display_data"
    },
    {
     "data": {
      "image/png": "[encoded data removed]",
      "text/plain": [
       "<Figure size 432x288 with 1 Axes>"
      ]
     },
     "metadata": {
      "needs_background": "light"
     },
     "output_type": "display_data"
    }
   ],
   "source": [
    "W, loss, acc = Logistic_Regression_Adam(X_train, Y_train, 0.01, 0.01, 200, 30)\n",
    "plt.figure()\n",
    "plt.plot(acc)\n",
    "plt.title(\"LR Adam Accuracy\")\n",
    "plt.xlabel(\"Iteration\")\n",
    "plt.ylabel(\"Match Percent\")\n",
    "plt.savefig('lab2_lr_adam_acc.pdf')\n",
    "plt.show()\n",
    "plt.figure()\n",
    "plt.plot(loss)\n",
    "plt.title(\"LR Adam Loss\")\n",
    "plt.xlabel(\"Iteration\")\n",
    "plt.ylabel(\"Loss\")\n",
    "plt.savefig('lab2_lr_adam_loss.pdf')\n",
    "plt.show()"
   ]
  },
  {
   "cell_type": "markdown",
   "id": "d57c0138",
   "metadata": {},
   "source": [
    "### B. Linear Classification and Batch Stochastic Gradient Descent"
   ]
  },
  {
   "cell_type": "markdown",
   "id": "ee1a7ddb",
   "metadata": {},
   "source": [
    "1. Load the training set and validation set."
   ]
  },
  {
   "cell_type": "code",
   "execution_count": 10,
   "id": "1c54d04c",
   "metadata": {},
   "outputs": [],
   "source": [
    "data = load_svmlight_file(\"a9a.txt\", n_features=123)\n",
    "X_train = data[0].toarray()\n",
    "Y_train = data[1].reshape((data[1].shape[0],1))\n",
    "data1 = load_svmlight_file(\"a9a.t\", n_features=123)\n",
    "X_test = data1[0].toarray()\n",
    "Y_test = data1[1].reshape((data1[1].shape[0], 1))"
   ]
  },
  {
   "cell_type": "markdown",
   "id": "25c86ac0",
   "metadata": {},
   "source": [
    "2. Initialize SVM model parameters.\n",
    "3. Select the loss function and calculate its derivation."
   ]
  },
  {
   "cell_type": "markdown",
   "id": "bf6080ab",
   "metadata": {},
   "source": [
    "SVM loss:\n",
    "$$ \\min_{W, b} \\mathcal{L}(W, b)= \\frac{\\parallel W \\parallel^2}{2} + \\frac{C}{n} \\sum_{i=1}^n max(0, 1-y_i(W^T X_i + b))$$"
   ]
  },
  {
   "cell_type": "code",
   "execution_count": 11,
   "id": "95ac2c8d",
   "metadata": {},
   "outputs": [],
   "source": [
    "def calc_loss_B(X, Y, W, b, c):\n",
    "    loss = 0\n",
    "    for i in range(X.shape[0]):\n",
    "        Xi = X[i]\n",
    "        Yi = Y[i]\n",
    "        loss = loss + max(0, 1 - Yi*(W.T.dot(Xi) + b))\n",
    "    loss = (c/X.shape[0])*loss\n",
    "    loss = loss + 0.5*(np.linalg.norm(W)**2)\n",
    "    return loss"
   ]
  },
  {
   "cell_type": "markdown",
   "id": "4e094e39",
   "metadata": {},
   "source": [
    "4. Determine the size of the batch_size and randomly take some samples,calculate gradient G toward loss function from partial samples.\n",
    "5. Use the SGD optimization method to update the parametric model and encourage additional attempts to optimize the Adam method.\n",
    "6. Select the appropriate threshold, mark the sample whose predict scores greater than the threshold as positive, on the contrary as negative. Predict under validation set and get the loss $Lvalidation$."
   ]
  },
  {
   "cell_type": "markdown",
   "id": "e18ce3f8",
   "metadata": {},
   "source": [
    "We define threshold value at 0, if $\\mathcal{f}(W^T X_i+b) \\gt 0$, it's positive, or it's negative "
   ]
  },
  {
   "cell_type": "code",
   "execution_count": 12,
   "id": "b81d86dc",
   "metadata": {},
   "outputs": [],
   "source": [
    "def calc_validation_B(W, b):\n",
    "    match_count = 0\n",
    "    for i in range(X_test.shape[0]):\n",
    "        Xi = X_test[i]\n",
    "        f = W.T.dot(Xi) + b\n",
    "        if f > 0:\n",
    "            flag = 1\n",
    "        else:\n",
    "            flag = -1\n",
    "        if flag == Y_test[i][0]:\n",
    "            match_count = match_count + 1\n",
    "    return match_count/X_test.shape[0]"
   ]
  },
  {
   "cell_type": "markdown",
   "id": "be75005e",
   "metadata": {},
   "source": [
    "formula of gradient:\n",
    "$$ \\frac{\\partial \\mathcal{L}(W, b)}{\\partial W} = \\begin{cases}\n",
    "-y_i X_i, & 1-y_i(W^T X_i + b) \\ge 0 \\\\\n",
    "0, &1-y_i(W^T X_i + b) < 0\n",
    "\\end{cases}$$\n",
    "\n",
    "\n",
    "$$ \\frac{\\partial \\mathcal{L}(W, b)}{\\partial b} = \\begin{cases}\n",
    "-y_i, & 1-y_i(W^T X_i + b) \\ge 0 \\\\\n",
    "0, &1-y_i(W^T X_i + b) < 0\n",
    "\\end{cases}$$"
   ]
  },
  {
   "cell_type": "code",
   "execution_count": 13,
   "id": "9a904074",
   "metadata": {},
   "outputs": [],
   "source": [
    "def calc_gradient_B(X, Y, W, b, c):\n",
    "    grad_W = np.zeros((W.shape[0], ))\n",
    "    grad_b = 0\n",
    "    for i in range(X.shape[0]):\n",
    "        Xi = X[i]\n",
    "        Yi = Y[i]\n",
    "        if Yi*(W.T.dot(Xi) + b) <= 1:\n",
    "            grad_W = grad_W + (-Yi*Xi)\n",
    "            grad_b = grad_b + (-Yi)\n",
    "    grad_W = np.reshape(grad_W.shape[0], 1)\n",
    "    grad_W = W + (c/X.shape[0]) * grad_W\n",
    "    grad_b = (c/X.shape[0]) * grad_b\n",
    "    return grad_W, grad_b"
   ]
  },
  {
   "cell_type": "markdown",
   "id": "84a4b070",
   "metadata": {},
   "source": [
    "We define the SVM_classifier with Stochastic Gradient Descent."
   ]
  },
  {
   "cell_type": "code",
   "execution_count": 14,
   "id": "8dcb90e5",
   "metadata": {},
   "outputs": [],
   "source": [
    "def SVM_classifier(X, Y, c, epoch, batch, learning_rate):\n",
    "    loss = []\n",
    "    acc = []\n",
    "    W = np.random.rand(X.shape[1], 1)\n",
    "    b = 0\n",
    "    for i in tqdm(range(epoch), desc=\"Training pass: \", leave=True):\n",
    "        bat = np.random.choice(X.shape[0], batch)\n",
    "        X_batch = X[bat]\n",
    "        Y_batch = Y[bat]\n",
    "        gradient_W, gradient_b = calc_gradient_B(X_batch, Y_batch, W, b, c)\n",
    "        W = W - learning_rate * gradient_W\n",
    "        b = b - learning_rate * gradient_b\n",
    "        loss.append(calc_loss_B(X, Y, W, b, c))\n",
    "        acc.append(calc_validation_B(W, b))\n",
    "    return W, loss, acc"
   ]
  },
  {
   "cell_type": "code",
   "execution_count": 15,
   "id": "70944cab",
   "metadata": {},
   "outputs": [
    {
     "name": "stderr",
     "output_type": "stream",
     "text": [
      "Training pass: 100%|██████████| 100/100 [00:15<00:00,  6.44it/s]\n"
     ]
    },
    {
     "data": {
      "image/png": "[encoded data removed]",
      "text/plain": [
       "<Figure size 432x288 with 1 Axes>"
      ]
     },
     "metadata": {
      "needs_background": "light"
     },
     "output_type": "display_data"
    },
    {
     "data": {
      "image/png": "[encoded data removed]",
      "text/plain": [
       "<Figure size 432x288 with 1 Axes>"
      ]
     },
     "metadata": {
      "needs_background": "light"
     },
     "output_type": "display_data"
    }
   ],
   "source": [
    "W, loss, acc = SVM_classifier(X=X_train, Y=Y_train, c=0.001, epoch=100, batch=40, learning_rate=0.1)\n",
    "\n",
    "plt.figure()\n",
    "plt.plot(acc)\n",
    "plt.title(\"SVM SGD Accuracy\")\n",
    "plt.xlabel(\"Iteration\")\n",
    "plt.ylabel(\"Match Percent\")\n",
    "plt.savefig('lab2_svm_sgd_acc.pdf')\n",
    "plt.show()\n",
    "plt.figure()\n",
    "plt.plot(loss)\n",
    "plt.title(\"SVM SGD Loss\")\n",
    "plt.xlabel(\"Iteration\")\n",
    "plt.ylabel(\"Loss\")\n",
    "plt.savefig('lab2_svm_sgd_loss.pdf')\n",
    "plt.show()"
   ]
  },
  {
   "cell_type": "markdown",
   "id": "29ba96de",
   "metadata": {},
   "source": [
    "Optimizing with Adam method."
   ]
  },
  {
   "cell_type": "code",
   "execution_count": 16,
   "id": "66d24703",
   "metadata": {},
   "outputs": [],
   "source": [
    "def SVM_classifier_Adam(X, Y, c, epoch, batch, learning_rate, eps=1e-8, beta1=0.9, beta2=0.999):\n",
    "    loss = []\n",
    "    acc = []\n",
    "    W = np.random.rand(X.shape[1], 1)\n",
    "    b = 0\n",
    "    mW = 0\n",
    "    vW = 0\n",
    "    mb = 0\n",
    "    vb = 0\n",
    "    for i in tqdm(range(epoch), desc=\"Training pass: \", leave=True):\n",
    "        bat = np.random.choice(X.shape[0], batch)\n",
    "        X_batch = X[bat]\n",
    "        Y_batch = Y[bat]\n",
    "        gradient_W, gradient_b = calc_gradient_B(X_batch, Y_batch, W, b, c)\n",
    "        mW = beta1 * mW + (1 - beta1) * gradient_W\n",
    "        vW = beta2 * vW + (1 - beta2) * (gradient_W ** 2)\n",
    "        W = W - learning_rate * mW / (np.sqrt(vW) + eps)\n",
    "        mb = beta1 * mb + (1 - beta1) * gradient_b\n",
    "        vb = beta2 * vb + (1 - beta2) * (gradient_b ** 2)\n",
    "        b = b - learning_rate * mb / (np.sqrt(vb) + eps)\n",
    "        loss.append(calc_loss_B(X, Y, W, b, c))\n",
    "        acc.append(calc_validation_B(W, b))\n",
    "    return W, loss, acc"
   ]
  },
  {
   "cell_type": "code",
   "execution_count": 17,
   "id": "cb08c53b",
   "metadata": {},
   "outputs": [
    {
     "name": "stderr",
     "output_type": "stream",
     "text": [
      "Training pass: 100%|██████████| 100/100 [00:16<00:00,  6.22it/s]\n"
     ]
    },
    {
     "data": {
      "image/png": "[encoded data removed]",
      "text/plain": [
       "<Figure size 432x288 with 1 Axes>"
      ]
     },
     "metadata": {
      "needs_background": "light"
     },
     "output_type": "display_data"
    },
    {
     "data": {
      "image/png": "[encoded data removed]",
      "text/plain": [
       "<Figure size 432x288 with 1 Axes>"
      ]
     },
     "metadata": {
      "needs_background": "light"
     },
     "output_type": "display_data"
    }
   ],
   "source": [
    "W, loss, acc = SVM_classifier_Adam(X=X_train, Y=Y_train, c=0.001, epoch=100, batch=40, learning_rate=0.01)\n",
    "\n",
    "plt.figure()\n",
    "plt.plot(acc)\n",
    "plt.title(\"SVM Adam Accuracy\")\n",
    "plt.xlabel(\"Iteration\")\n",
    "plt.ylabel(\"Match Percent\")\n",
    "plt.savefig('lab2_svm_adam_acc.pdf')\n",
    "plt.show()\n",
    "plt.figure()\n",
    "plt.plot(loss)\n",
    "plt.title(\"SVM Adam Loss\")\n",
    "plt.xlabel(\"Iteration\")\n",
    "plt.ylabel(\"Loss\")\n",
    "plt.savefig('lab2_svm_adam_loss.pdf')\n",
    "plt.show()"
   ]
  },
  {
   "cell_type": "code",
   "execution_count": null,
   "id": "f2c92081",
   "metadata": {},
   "outputs": [],
   "source": []
  }
 ],
 "metadata": {
  "kernelspec": {
   "display_name": "Python 3",
   "language": "python",
   "name": "python3"
  },
  "language_info": {
   "codemirror_mode": {
    "name": "ipython",
    "version": 3
   },
   "file_extension": ".py",
   "mimetype": "text/x-python",
   "name": "python",
   "nbconvert_exporter": "python",
   "pygments_lexer": "ipython3",
   "version": "3.8.8"
  }
 },
 "nbformat": 4,
 "nbformat_minor": 5
}
