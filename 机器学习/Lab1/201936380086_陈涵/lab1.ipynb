{
 "cells": [
  {
   "cell_type": "markdown",
   "id": "0898040d",
   "metadata": {},
   "source": [
    "# Lab 1: \n",
    "# Linear Regression and Stochastic Gradient Descent\n",
    "### name：陈涵\n",
    "### student number：201936380086"
   ]
  },
  {
   "cell_type": "markdown",
   "id": "c3d7b0b7",
   "metadata": {},
   "source": [
    "## A. closed-form solution of Linear Regression"
   ]
  },
  {
   "cell_type": "markdown",
   "id": "615ff225",
   "metadata": {},
   "source": [
    "1. Load the experiment data. You can use load_svmlight_file function in sklearn library."
   ]
  },
  {
   "cell_type": "code",
   "execution_count": 1,
   "id": "8905d824",
   "metadata": {},
   "outputs": [],
   "source": [
    "from sklearn.datasets import load_svmlight_file\n",
    "from sklearn.model_selection import  train_test_split\n",
    "import numpy as np\n",
    "import matplotlib.pyplot as plt\n",
    "\n",
    "#loda data from svmlight format file\n",
    "def get_data():\n",
    "    data = load_svmlight_file(\"housing_scale.txt\")\n",
    "    return data[0], data[1]\n",
    "\n",
    "X, y = get_data()\n",
    "X = X.toarray()\n",
    "X = np.hstack((np.ones((X.shape[0], 1)), X))"
   ]
  },
  {
   "cell_type": "markdown",
   "id": "ce0e6a13",
   "metadata": {},
   "source": [
    "2. Devide dataset. You should divide dataset into training set and validation set using train_test_split function. Test set is not required in this experiment."
   ]
  },
  {
   "cell_type": "code",
   "execution_count": 2,
   "id": "a68c2d3e",
   "metadata": {},
   "outputs": [],
   "source": [
    "X_train, X_test, y_train, y_test = train_test_split(X, y, test_size=0.25, random_state=42)"
   ]
  },
  {
   "cell_type": "markdown",
   "id": "3ef45200",
   "metadata": {},
   "source": [
    "3. Select a Loss function."
   ]
  },
  {
   "cell_type": "code",
   "execution_count": 3,
   "id": "5b04e5aa",
   "metadata": {},
   "outputs": [],
   "source": [
    "#calculate loss function\n",
    "def calc_loss(X, y, W):\n",
    "    loss = 0.5*(np.linalg.norm(y-X.dot(W))**2)\n",
    "    return loss"
   ]
  },
  {
   "cell_type": "markdown",
   "id": "c1d4e27a",
   "metadata": {},
   "source": [
    "4. Get the formula of the closed-form solution\n",
    "\n",
    "$$W^* = (X^T X)^{-1} X^T Y$$"
   ]
  },
  {
   "cell_type": "code",
   "execution_count": 4,
   "id": "ea2d655b",
   "metadata": {},
   "outputs": [],
   "source": [
    "#solve vector W use closed form\n",
    "def solve_W_closed_form(X, Y):\n",
    "    Y = np.array(Y)\n",
    "    W = np.linalg.inv(X.T.dot(X)).dot(X.T).dot(Y)\n",
    "    return W\n"
   ]
  },
  {
   "cell_type": "markdown",
   "id": "2d8ceb04",
   "metadata": {},
   "source": [
    "5. Get the value of parameter W by the closed-form solution, and update the parameter W."
   ]
  },
  {
   "cell_type": "code",
   "execution_count": 5,
   "id": "102b2982",
   "metadata": {},
   "outputs": [
    {
     "name": "stdout",
     "output_type": "stream",
     "text": [
      "closed form solution W\n",
      "[ 9.80396002 -5.70842301  1.47758936  0.66643874  1.38675239 -3.94603762\n",
      " 11.40026702 -0.44899433 -7.70259391  2.96425392 -2.60872035 -4.33867811\n",
      "  2.6145364  -9.37962624]\n"
     ]
    }
   ],
   "source": [
    "W_train = solve_W_closed_form(X_train, y_train)\n",
    "print(\"closed form solution W\")\n",
    "print(W_train)"
   ]
  },
  {
   "cell_type": "markdown",
   "id": "5681c3ac",
   "metadata": {},
   "source": [
    "6. Get the *Loss*, *loss_train* under the training set and *loss_val* by validating under validation set."
   ]
  },
  {
   "cell_type": "code",
   "execution_count": 6,
   "id": "e1529a72",
   "metadata": {},
   "outputs": [],
   "source": [
    "loss_train=calc_loss(X_train, y_train, W_train)\n",
    "loss_val=calc_loss(X_test, y_test, W_train)\n",
    "Loss=calc_loss(X,y,W_train)"
   ]
  },
  {
   "cell_type": "markdown",
   "id": "5938e178",
   "metadata": {},
   "source": [
    "7. Output the value of *Loss*，*loss_train* and *loss_val*."
   ]
  },
  {
   "cell_type": "code",
   "execution_count": 7,
   "id": "184b9faa",
   "metadata": {
    "scrolled": true
   },
   "outputs": [
    {
     "name": "stdout",
     "output_type": "stream",
     "text": [
      "Loss value:\n",
      "5636.7082077152245\n",
      "loss_train value:\n",
      "4233.440988955715\n",
      "loss_val value:\n",
      "1403.2672187595103\n"
     ]
    }
   ],
   "source": [
    "print(\"Loss value:\")\n",
    "print(Loss)\n",
    "print(\"loss_train value:\")\n",
    "print(loss_train)\n",
    "print(\"loss_val value:\")\n",
    "print(loss_val)"
   ]
  },
  {
   "cell_type": "markdown",
   "id": "2713a8de",
   "metadata": {},
   "source": [
    "## B. Linear Regression and Stochastic Gradient Descent"
   ]
  },
  {
   "cell_type": "markdown",
   "id": "c9c70cb4",
   "metadata": {},
   "source": [
    "1. Load the experiment data. You can use load_svmlight_file function in sklearn library."
   ]
  },
  {
   "cell_type": "code",
   "execution_count": 8,
   "id": "ed82c8fc",
   "metadata": {},
   "outputs": [],
   "source": [
    "X, y = get_data()\n",
    "X = X.toarray()\n",
    "X = np.hstack((np.ones((X.shape[0], 1)), X))"
   ]
  },
  {
   "cell_type": "markdown",
   "id": "936ce4a8",
   "metadata": {},
   "source": [
    "2. Devide dataset. You should divide dataset into training set and validation set using train_test_split function. Test set is not required in this experiment."
   ]
  },
  {
   "cell_type": "code",
   "execution_count": 9,
   "id": "219bddd6",
   "metadata": {},
   "outputs": [],
   "source": [
    "X_train, X_test, y_train, y_test = train_test_split(X, y, test_size=0.25, random_state=42)"
   ]
  },
  {
   "cell_type": "markdown",
   "id": "73c36799",
   "metadata": {},
   "source": [
    "3. Initialize linear model parameters. You can choose to set all parameter into zero, initialize it randomly or with normal distribution."
   ]
  },
  {
   "cell_type": "markdown",
   "id": "08e121fc",
   "metadata": {},
   "source": [
    "4. Choose loss function and derivation.\n",
    "$$ \\frac{\\partial \\mathcal{L_D}(W)}{\\partial W} = -X^T y + X^T X W$$"
   ]
  },
  {
   "cell_type": "markdown",
   "id": "2beed7c1",
   "metadata": {},
   "source": [
    "5. Calculate G toward loss function from each sample."
   ]
  },
  {
   "cell_type": "markdown",
   "id": "066e64d6",
   "metadata": {},
   "source": [
    "6. Denote the opposite direction of gradient G as D."
   ]
  },
  {
   "cell_type": "markdown",
   "id": "af862c18",
   "metadata": {},
   "source": [
    "7. Update model:$$W_t~=W_{t-1} + ηD$$  η is learning rate, a hyper-parameter that we can adjust."
   ]
  },
  {
   "cell_type": "markdown",
   "id": "4cc3d42e",
   "metadata": {},
   "source": [
    "8. Get the loss *loss_train* under the training set and *loss_val* by validating under validation set."
   ]
  },
  {
   "cell_type": "markdown",
   "id": "7065bcec",
   "metadata": {},
   "source": [
    "9. Repeate step 5 to 8 for several times, andand output the value of *loss_train* as well as *loss_val*."
   ]
  },
  {
   "cell_type": "markdown",
   "id": "16a97137",
   "metadata": {},
   "source": [
    "<u> 3-9 steps in function below.   </u>"
   ]
  },
  {
   "cell_type": "code",
   "execution_count": 10,
   "id": "5e4bac08",
   "metadata": {},
   "outputs": [],
   "source": [
    "#solve W  vector use gradient descent\n",
    "def solve_W_stochastic_gradient_descent(X, Y, learning_rate, epoch, batch, X_test, Y_test):\n",
    "    train_loss = []\n",
    "    test_loss = []\n",
    "    Y = Y.reshape(Y.shape[0], 1)\n",
    "    W = np.random.rand(X.shape[1], 1)\n",
    "    for i in range(epoch):\n",
    "        bat = np.random.choice(X.shape[0], batch)\n",
    "        X_batch = X[bat]\n",
    "        Y_batch = Y[bat]\n",
    "        gradient = -X_batch.T.dot(Y_batch) + X_batch.T.dot(X_batch).dot(W)\n",
    "        gradient = gradient * (1/batch)\n",
    "        # normnazie\n",
    "        W = W - learning_rate * gradient\n",
    "        epoch_train_loss = calc_loss(X, Y, W)\n",
    "        epoch_test_loss = calc_loss(X_test, Y_test, W)\n",
    "        train_loss.append(epoch_train_loss)\n",
    "        test_loss.append(epoch_test_loss)\n",
    "    #print(loss)\n",
    "    return W,train_loss, test_loss"
   ]
  },
  {
   "cell_type": "code",
   "execution_count": 12,
   "id": "12924d69",
   "metadata": {},
   "outputs": [
    {
     "data": {
      "image/png": "[encoded data removed]",
      "text/plain": [
       "<Figure size 432x288 with 1 Axes>"
      ]
     },
     "metadata": {
      "needs_background": "light"
     },
     "output_type": "display_data"
    },
    {
     "data": {
      "image/png": "[encoded data removed]",
      "text/plain": [
       "<Figure size 432x288 with 1 Axes>"
      ]
     },
     "metadata": {
      "needs_background": "light"
     },
     "output_type": "display_data"
    },
    {
     "name": "stdout",
     "output_type": "stream",
     "text": [
      "stochastic gradient desent W\n",
      "[ 7.9875139  -6.81201741 -0.71048418 -1.7836911   1.26436358 -2.20769654\n",
      "  7.35480538  0.51904758 -4.73345135  1.54173049 -0.42069156 -4.47368868\n",
      "  3.57781422 -9.03244527]\n",
      "train Loss:\n",
      "4784.629165012527\n",
      "test loss:\n",
      "1635.082441104777\n"
     ]
    }
   ],
   "source": [
    "W_gra, train_loss_gra, test_loss_gra = solve_W_stochastic_gradient_descent(X_train, y_train, 0.01, 1000, 5, X_test, y_test)\n",
    "plt.figure()\n",
    "plt.plot(train_loss_gra)\n",
    "plt.title(\"Train Loss Stochastic Gradient Descent\")\n",
    "plt.xlabel(\"Iteration\")\n",
    "plt.ylabel(\"Train Loss\")\n",
    "plt.savefig('lab1_sto_sam_train.pdf')\n",
    "plt.show()\n",
    "plt.figure()\n",
    "plt.plot(test_loss_gra)\n",
    "plt.title(\"Test Loss Stochastic Gradient Descent\")\n",
    "plt.xlabel(\"Iteration\")\n",
    "plt.ylabel(\"Test Loss\")\n",
    "plt.savefig('lab1_sto_sam_test.pdf')\n",
    "plt.show()\n",
    "print(\"stochastic gradient desent W\")\n",
    "W_gra = W_gra.reshape((W_gra.shape[0], ))\n",
    "print(W_gra)\n",
    "print(\"train Loss:\")\n",
    "print(calc_loss(X_train, y_train, W_gra))\n",
    "print(\"test loss:\")\n",
    "print(calc_loss(X_test, y_test, W_gra))"
   ]
  }
 ],
 "metadata": {
  "kernelspec": {
   "display_name": "Python 3",
   "language": "python",
   "name": "python3"
  },
  "language_info": {
   "codemirror_mode": {
    "name": "ipython",
    "version": 3
   },
   "file_extension": ".py",
   "mimetype": "text/x-python",
   "name": "python",
   "nbconvert_exporter": "python",
   "pygments_lexer": "ipython3",
   "version": "3.8.8"
  }
 },
 "nbformat": 4,
 "nbformat_minor": 5
}
